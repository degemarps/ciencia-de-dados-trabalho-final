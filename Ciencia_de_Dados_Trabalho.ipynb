{
  "nbformat": 4,
  "nbformat_minor": 0,
  "metadata": {
    "colab": {
      "name": "Ciencia_de_Dados_Trabalho.ipynb",
      "provenance": []
    },
    "kernelspec": {
      "name": "python3",
      "display_name": "Python 3"
    }
  },
  "cells": [
    {
      "cell_type": "markdown",
      "metadata": {
        "id": "ZwwKZjfxYhKN"
      },
      "source": [
        "A idéia deste trabalho é poder analisar um dataset que contém um conjunto de pacotes de rede que foram gerados em uma rede IoT. Esta rede utiliza o protocolo MQTT para que os dispositivos se comuniquem. A partir da análise que for feita nos resgistros desses pacotes, o objetivo principal é poder ver a possibilidade de identificar um ataque do tipo força bruta entre um dispositivo e outro.\n",
        "\n",
        "O dataset utilizado foi extraído da base de datasets do IEEE-Dataport e o seu nome é \"*MQTT Internet of Things Intrusion Detection Dataset*\".\n",
        "\n",
        "Antes de tudo, vamos montar o ponto onde vamos fazer a importação do dataset."
      ]
    },
    {
      "cell_type": "code",
      "metadata": {
        "id": "CSme6oakYcQ-"
      },
      "source": [
        "from google.colab import drive\n",
        "\n",
        "drive.mount('/content/drive')"
      ],
      "execution_count": null,
      "outputs": []
    },
    {
      "cell_type": "code",
      "metadata": {
        "id": "ouecsAkcxjG3"
      },
      "source": [
        "import pandas as pd\n",
        "\n",
        "dados = pd.read_csv('/content/drive/My Drive/Mestrado/mqtt_bruteforce.csv')"
      ],
      "execution_count": null,
      "outputs": []
    },
    {
      "cell_type": "markdown",
      "metadata": {
        "id": "Elr9w1nkafeN"
      },
      "source": [
        "Vamos dar uma olhada nos primeiros registros para vermos como é a sua estrutura."
      ]
    },
    {
      "cell_type": "code",
      "metadata": {
        "id": "bFl9BCr_b-Qh"
      },
      "source": [
        "dados.head(10)"
      ],
      "execution_count": null,
      "outputs": []
    },
    {
      "cell_type": "markdown",
      "metadata": {
        "id": "kUDHMatqcB3U"
      },
      "source": [
        "Vamos agora saber quantas linhas e quantas colunas esse dataset possui."
      ]
    },
    {
      "cell_type": "code",
      "metadata": {
        "id": "2EwLKWfFcnh6"
      },
      "source": [
        "dados.shape"
      ],
      "execution_count": null,
      "outputs": []
    },
    {
      "cell_type": "markdown",
      "metadata": {
        "id": "cbGFRUv4cpwo"
      },
      "source": [
        "Após verificar os resultados anteiores, percebe-se que este dataset é muito extenso e que possui milhões de registros de tráfego de pacotes. Além disso, ele possui um total de 31 coluncas, ou características. \n",
        "\n",
        "Ao fazer análises nas características dos pacotes, percebeu-se que das 31 apenas 9 apresentam relevância para as análises.\n",
        "\n",
        "Ao ter consciência disto, as próximas análises serão feitas em cima destas características. Primeiro vamos saber quais são os endereços IP que aparecem nos campos de \"src_ip\" (endereço ip de origem) e \"dst_ip\" (endereço ip de destino)."
      ]
    },
    {
      "cell_type": "code",
      "metadata": {
        "id": "WR1cgJguc9ca"
      },
      "source": [
        "dados['dst_ip'].unique()"
      ],
      "execution_count": null,
      "outputs": []
    },
    {
      "cell_type": "markdown",
      "metadata": {
        "id": "PwYxaJxWdBZY"
      },
      "source": [
        "Após encontrar os endereços ip que aparecem dos registros, foram feitos testes para saber a quantidade de vezes que cada um deles aparecem.\n",
        "\n",
        "Após feitos os testes, percebeu-se que os endereços IP \"192.168.2.5\" e \"192.168.1.7\" são os que mais aparecem nos registros. O primeiro enreço no campo \"src_ip\" e o segundo endereço no campo \"dst_ip\"."
      ]
    },
    {
      "cell_type": "code",
      "metadata": {
        "id": "RwrzOfvOd_8a"
      },
      "source": [
        "dados.query(\"src_ip == '192.168.2.5'\")"
      ],
      "execution_count": null,
      "outputs": []
    },
    {
      "cell_type": "code",
      "metadata": {
        "id": "OAdpshFZd8xq"
      },
      "source": [
        "dados.query(\"dst_ip == '192.168.1.7'\")"
      ],
      "execution_count": null,
      "outputs": []
    },
    {
      "cell_type": "markdown",
      "metadata": {
        "id": "OE8-_gxBeMsL"
      },
      "source": [
        "O primeiro endereço aparece 5012000 vezes e o segundo aparece 5010276 vezes.\n",
        "\n",
        "Ao saber disso, vamos saber o nível de relação que eles possuem.\n",
        "\n",
        "Para isso vamos saber quantos pacotes exsitem onde o endereço IP de origem seja o \"192.168.2.5\" e o endreço IP de destino seja o \"192.168.1.7\"."
      ]
    },
    {
      "cell_type": "code",
      "metadata": {
        "id": "fbnl9n5gefy_"
      },
      "source": [
        "ip_origem = \"src_ip == '192.168.2.5'\"\n",
        "ip_destino = \"dst_ip == '192.168.1.7'\"\n",
        "\n",
        "resultado = dados.query(f\"{ip_origem} and {ip_destino}\")\n",
        "\n",
        "resultado.head(10)"
      ],
      "execution_count": null,
      "outputs": []
    },
    {
      "cell_type": "markdown",
      "metadata": {
        "id": "2lehsMn6ki2W"
      },
      "source": [
        "Ao saber do resultado anterior, percebe-se que a quantidade de pacotes que antendem aos quesitos definidos é de 5010276, cerca de metade da quantidade total de registro de pacotes."
      ]
    },
    {
      "cell_type": "code",
      "metadata": {
        "id": "MgmVnTJIk5K5"
      },
      "source": [
        "import matplotlib.pyplot as plt\n",
        "import seaborn as sns\n",
        "from scipy.stats import norm\n"
      ],
      "execution_count": null,
      "outputs": []
    },
    {
      "cell_type": "code",
      "metadata": {
        "id": "soU_NwaHsk75"
      },
      "source": [
        "enderecos_ip = pd.crosstab(dados['src_ip'], dados['dst_ip'], normalize=\"index\")\n",
        "plot_enderecos = sns.lineplot(data=enderecos_ip['192.168.2.1'])\n"
      ],
      "execution_count": null,
      "outputs": []
    },
    {
      "cell_type": "code",
      "metadata": {
        "id": "LJ9-dCbuy5KD"
      },
      "source": [
        "agregado_dados = dados.groupby(['src_ip','dst_ip','protocol']).size()\n",
        "agregado_dados"
      ],
      "execution_count": null,
      "outputs": []
    },
    {
      "cell_type": "code",
      "metadata": {
        "id": "n11l93eie3TL"
      },
      "source": [
        "teste_dados = pd.crosstab([dados[\"src_ip\"], dados['dst_ip']], dados[\"protocol\"], normalize=\"index\")\n",
        "teste_dados"
      ],
      "execution_count": null,
      "outputs": []
    },
    {
      "cell_type": "code",
      "metadata": {
        "id": "dArqqUuj12Tq"
      },
      "source": [
        "teste_dados.describe()"
      ],
      "execution_count": null,
      "outputs": []
    },
    {
      "cell_type": "code",
      "metadata": {
        "id": "-v2NIUxr0NkR"
      },
      "source": [
        "protocolo = teste_dados[\"MQTT\"]\n",
        "plt.figure(figsize=(9, 6))\n",
        "plot_it = sns.lineplot(data=protocolo)\n",
        "plot_it.set(ylim=(0,1))"
      ],
      "execution_count": null,
      "outputs": []
    },
    {
      "cell_type": "markdown",
      "metadata": {
        "id": "7L1_A0Y6nIOi"
      },
      "source": [
        "**Primeiro vamos analisar o comportamento dos endereços IP**"
      ]
    },
    {
      "cell_type": "code",
      "metadata": {
        "id": "QXRb6u03nH2L"
      },
      "source": [
        "enderecos_ip = pd.crosstab(dados['src_ip'], dados['dst_ip'], normalize=\"index\")\n",
        "plt.figure(figsize=(9, 6))\n",
        "plot_enderecos = sns.lineplot(data=enderecos_ip['192.168.1.7'])\n",
        "plt.xlabel(\"Endereço de Origem\")\n",
        "plt.ylabel(\"Pencentual\")\n",
        "plt.title(\"Relação dos endereços IPs de Origem com o endereço 192.168.1.7\")"
      ],
      "execution_count": null,
      "outputs": []
    },
    {
      "cell_type": "code",
      "metadata": {
        "id": "1o28UVH_p3HD"
      },
      "source": [
        "enderecos_ip = pd.crosstab(dados['src_ip'], dados['dst_ip'], normalize=\"index\")\n",
        "plt.figure(figsize=(9, 6))\n",
        "plot_enderecos = sns.lineplot(data=enderecos_ip['192.168.2.5'])\n",
        "plt.xlabel(\"Endereço de Origem\")\n",
        "plt.ylabel(\"Pencentual\")\n",
        "plt.title(\"Relação dos endereços IPs de Origem com o endereço 192.168.2.5\")"
      ],
      "execution_count": null,
      "outputs": []
    },
    {
      "cell_type": "markdown",
      "metadata": {
        "id": "bl_i3UaxJqrH"
      },
      "source": [
        "**Após isso vamos analisar esses endereços juntamente com o protocolo MQTT**"
      ]
    },
    {
      "cell_type": "code",
      "metadata": {
        "id": "ujMmzdD6Jo03"
      },
      "source": [
        "teste_dados = pd.crosstab(dados[\"src_ip\"], dados[\"protocol\"], normalize=\"index\")\n",
        "plt.figure(figsize=(9, 6))\n",
        "plot_enderecos = sns.lineplot(data=teste_dados['MQTT'])\n",
        "plt.xlabel(\"Endereço de Origem\")\n",
        "plt.ylabel(\"Pencentual\")\n",
        "plt.title(\"Percentual de Uso do Protocolo MQTT por cada endereço IP de Origem\")"
      ],
      "execution_count": null,
      "outputs": []
    },
    {
      "cell_type": "code",
      "metadata": {
        "id": "sStICyKcP2G5"
      },
      "source": [
        "teste_dados = pd.crosstab(dados[\"dst_ip\"], dados[\"protocol\"], normalize=\"index\")\n",
        "plt.figure(figsize=(9, 6))\n",
        "plot_enderecos = sns.lineplot(data=teste_dados['MQTT'])\n",
        "plt.xlabel(\"Endereço de Origem\")\n",
        "plt.ylabel(\"Pencentual\")\n",
        "plt.title(\"Percentual de Uso do Protocolo MQTT por cada endereço IP de Destino\")"
      ],
      "execution_count": null,
      "outputs": []
    },
    {
      "cell_type": "code",
      "metadata": {
        "id": "AIugSIvcP_0z"
      },
      "source": [
        "teste_dados = pd.crosstab(dados[\"src_ip\"], dados[\"protocol\"], normalize=\"index\")\n",
        "plt.figure(figsize=(9, 6))\n",
        "plot_enderecos = sns.lineplot(data=teste_dados['TCP'])\n",
        "plt.xlabel(\"Endereço de Origem\")\n",
        "plt.ylabel(\"Pencentual\")\n",
        "plt.title(\"Percentual de Uso do Protocolo TCP por cada endereço IP de Origem\")"
      ],
      "execution_count": null,
      "outputs": []
    },
    {
      "cell_type": "code",
      "metadata": {
        "id": "O6GBBlk8o-GT"
      },
      "source": [
        "teste_dados = pd.crosstab(dados[\"dst_ip\"], dados[\"protocol\"], normalize=\"index\")\n",
        "plt.figure(figsize=(9, 6))\n",
        "plot_enderecos = sns.lineplot(data=teste_dados['TCP'])\n",
        "plt.xlabel(\"Endereço de Destino\")\n",
        "plt.ylabel(\"Pencentual\")\n",
        "plt.title(\"Percentual de Uso do Protocolo TCP por cada endereço IP de Destino\")"
      ],
      "execution_count": null,
      "outputs": []
    },
    {
      "cell_type": "markdown",
      "metadata": {
        "id": "BMETwZbTiDb4"
      },
      "source": [
        "**Agora vamos analisar os pacotes que utilizaram o message type 1 do protocolo MQTT**"
      ]
    },
    {
      "cell_type": "code",
      "metadata": {
        "id": "Z2lqmHTSiNP7"
      },
      "source": [
        "teste_dados = pd.crosstab(dados[\"src_ip\"], dados[\"mqtt_messagetype\"], normalize=\"index\")\n",
        "plt.figure(figsize=(9, 6))\n",
        "plot_enderecos = sns.lineplot(data=teste_dados['1'])\n",
        "plt.xlabel(\"Endereço de Origem\")\n",
        "plt.ylabel(\"Pencentual\")\n",
        "plt.title(\"Porcentagem de pacotes MQTT do tipo CONNECT enviados por endereço de origem\")"
      ],
      "execution_count": null,
      "outputs": []
    },
    {
      "cell_type": "code",
      "metadata": {
        "id": "6nibJVsu-fLx"
      },
      "source": [
        "teste_dados = pd.crosstab(dados[\"dst_ip\"], dados[\"mqtt_messagetype\"], normalize=\"index\")\n",
        "plt.figure(figsize=(9, 6))\n",
        "plot_enderecos = sns.lineplot(data=teste_dados['1'])\n",
        "plt.xlabel(\"Endereço de Destino\")\n",
        "plt.ylabel(\"Pencentual\")\n",
        "plt.title(\"Porcentagem de pacotes MQTT do tipo CONNECT recebidos por endereço de destino\")"
      ],
      "execution_count": null,
      "outputs": []
    },
    {
      "cell_type": "code",
      "metadata": {
        "id": "dDND5h27yWyD"
      },
      "source": [
        "teste_dados = pd.crosstab(dados[\"src_ip\"], [dados[\"mqtt_flag_passwd\"], dados[\"mqtt_flag_uname\"]], normalize=\"index\")\n",
        "plt.figure(figsize=(9, 6))\n",
        "plot_enderecos = sns.lineplot(data=teste_dados['1'])\n",
        "plt.xlabel(\"Endereço de Destino\")\n",
        "plt.ylabel(\"Pencentual\")\n",
        "plt.title(\"Porcentagem de pacotes MQTT do tipo CONNECT recebidos por endereço de destino\")"
      ],
      "execution_count": null,
      "outputs": []
    }
  ]
}